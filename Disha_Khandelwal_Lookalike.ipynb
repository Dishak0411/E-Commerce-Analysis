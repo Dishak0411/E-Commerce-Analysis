{
 "cells": [
  {
   "cell_type": "markdown",
   "id": "bf3f5885",
   "metadata": {},
   "source": [
    "# Task-2"
   ]
  },
  {
   "cell_type": "markdown",
   "id": "4cc349c2",
   "metadata": {},
   "source": [
    "## Importing Required Libraries"
   ]
  },
  {
   "cell_type": "code",
   "execution_count": 1,
   "id": "72828c2c",
   "metadata": {},
   "outputs": [],
   "source": [
    "import pandas as pd\n",
    "import numpy as np\n",
    "import matplotlib.pyplot as plt\n",
    "import seaborn as sns\n",
    "import datetime\n",
    "from sklearn.preprocessing import StandardScaler, OneHotEncoder\n",
    "from sklearn.compose import ColumnTransformer\n",
    "from sklearn.pipeline import Pipeline\n",
    "from sklearn.metrics.pairwise import cosine_similarity"
   ]
  },
  {
   "cell_type": "markdown",
   "id": "01a82267",
   "metadata": {},
   "source": [
    "## Load Datasets"
   ]
  },
  {
   "cell_type": "code",
   "execution_count": 2,
   "id": "385b6dc5",
   "metadata": {},
   "outputs": [],
   "source": [
    "customers = pd.read_csv(\"Customers.csv\")\n",
    "products = pd.read_csv(\"Products.csv\")\n",
    "transactions = pd.read_csv(\"Transactions.csv\")"
   ]
  },
  {
   "cell_type": "markdown",
   "id": "5c76d426",
   "metadata": {},
   "source": [
    "## Merge Datasets"
   ]
  },
  {
   "cell_type": "code",
   "execution_count": 3,
   "id": "3b65c67f",
   "metadata": {},
   "outputs": [],
   "source": [
    "merged_data = transactions.merge(customers, on=\"CustomerID\").merge(products, on=\"ProductID\")\n",
    "merged_data.drop('Price_y', axis=1) \n",
    "merged_data = merged_data.rename(columns={'Price_x': 'Price'})"
   ]
  },
  {
   "cell_type": "markdown",
   "id": "dbfca901",
   "metadata": {},
   "source": [
    "## Building the Lookalike Model"
   ]
  },
  {
   "cell_type": "code",
   "execution_count": 4,
   "id": "676c8b44",
   "metadata": {},
   "outputs": [],
   "source": [
    "def create_customer_feature():\n",
    "    # Aggregate customer-level features\n",
    "    customer_features = merged_data.groupby('CustomerID').agg({\n",
    "        'Region' : 'first',\n",
    "        'TotalValue' : ['sum', 'mean', 'count'],\n",
    "        'Quantity' : ['sum', 'mean'],\n",
    "        'Price' : ['mean', 'max'],\n",
    "        'Category' : lambda x: x.mode().iloc[0] if len(x) > 0 else 'Unknown'\n",
    "    }).reset_index()\n",
    "    \n",
    "    customer_features.columns = [\n",
    "        'CustomerID', 'Region', 'TotalSpend', 'AvgTransactionValue', 'TransactionCount',\n",
    "        'TotalQuantity', 'AvgQuantity', 'AvgPrice', 'MaxPrice', 'TopCategory'\n",
    "    ]\n",
    "    \n",
    "    return customer_features"
   ]
  },
  {
   "cell_type": "code",
   "execution_count": 5,
   "id": "5c35f377",
   "metadata": {},
   "outputs": [],
   "source": [
    "def build_similarity_model():\n",
    "    customer_features = create_customer_feature()\n",
    "    \n",
    "    # Preprocessing for numerical and categorical features\n",
    "    preprocessor = ColumnTransformer(\n",
    "        transformers = [\n",
    "                ('num', StandardScaler(), ['TotalSpend', 'AvgTransactionValue', 'TransactionCount',\n",
    "                                            'TotalQuantity', 'AvgQuantity', 'AvgPrice', 'MaxPrice']),\n",
    "                ('cat', OneHotEncoder(handle_unknown = 'ignore'), ['Region', 'TopCategory'])\n",
    "        ])\n",
    "    return preprocessor, customer_features"
   ]
  },
  {
   "cell_type": "code",
   "execution_count": 6,
   "id": "5a7f7e12",
   "metadata": {},
   "outputs": [],
   "source": [
    "def calculate_lookalikes(target_customer_id, top_n=3):\n",
    "    # Build preprocessing pipeline\n",
    "    preprocessor, customer_features = build_similarity_model()\n",
    "    # Prepare feature matrix\n",
    "    X = customer_features.drop('CustomerID', axis=1)\n",
    "    \n",
    "    # Transform features\n",
    "    X_transformed = preprocessor.fit_transform(X)\n",
    "    \n",
    "    # Find target customer's transformed features\n",
    "    target_index = customer_features[customer_features['CustomerID'] == target_customer_id].index[0]\n",
    "    target_features = X_transformed[target_index].reshape(1, -1)\n",
    "    \n",
    "    # Calculate cosine similarity\n",
    "    from sklearn.metrics.pairwise import cosine_similarity\n",
    "    similarities = cosine_similarity(target_features, X_transformed)[0]\n",
    "    \n",
    "    # Remove self-similarity and get top N\n",
    "    similarities[target_index] = -1  # Exclude self\n",
    "    top_similar_indices = similarities.argsort()[-top_n-1:-1][::-1]\n",
    "    \n",
    "    # Prepare lookalike results\n",
    "    lookalikes = [\n",
    "        (customer_features.iloc[idx]['CustomerID'], similarities[idx])\n",
    "        for idx in top_similar_indices\n",
    "    ]\n",
    "    \n",
    "    return lookalikes"
   ]
  },
  {
   "cell_type": "code",
   "execution_count": 7,
   "id": "09338437",
   "metadata": {},
   "outputs": [],
   "source": [
    "# Generate Lookalike Recommendations\n",
    "lookalike_results = {}\n",
    "for customer_id in customers['CustomerID'][:20]:\n",
    "    lookalikes = calculate_lookalikes(customer_id)\n",
    "    lookalike_results[customer_id] = lookalikes"
   ]
  },
  {
   "cell_type": "code",
   "execution_count": 8,
   "id": "2bd3b1e0",
   "metadata": {},
   "outputs": [
    {
     "name": "stdout",
     "output_type": "stream",
     "text": [
      "Lookalike model completed.\n",
      "Result saved in Lookalike.csv\n"
     ]
    }
   ],
   "source": [
    "# Create lookalike.csv\n",
    "lookalike_df = pd.DataFrame(\n",
    "    [(cust, lookalike[0], lookalike[1]) for cust, lookalikes in lookalike_results.items()\n",
    "        for lookalike in lookalikes],\n",
    "        columns = ['TargetCustomer', 'LookalikeCustomer', 'SimilarityScore']\n",
    ")\n",
    "\n",
    "lookalike_df.to_csv('Lookalike.csv', index = False)\n",
    "print(\"Lookalike model completed.\\nResult saved in Lookalike.csv\")"
   ]
  },
  {
   "cell_type": "markdown",
   "id": "67c73e26",
   "metadata": {},
   "source": [
    "## Test Case"
   ]
  },
  {
   "cell_type": "code",
   "execution_count": 9,
   "id": "c7ea1b73",
   "metadata": {},
   "outputs": [
    {
     "name": "stdout",
     "output_type": "stream",
     "text": [
      "Enter Target Customer ID: C0012\n",
      "Target Customer ID :  C0012\n",
      "1. lookalike : ('C0113', 0.8950479373034015)\n",
      "\n",
      "2. lookalike : ('C0163', 0.8619963594927427)\n",
      "\n",
      "3. lookalike : ('C0065', 0.836805824506756)\n",
      "\n"
     ]
    }
   ],
   "source": [
    "# Test-Cases\n",
    "target_customer_id = input(\"Enter Target Customer ID: \")\n",
    "lookalikes = calculate_lookalikes(target_customer_id)\n",
    "i=1\n",
    "print(\"Target Customer ID : \", target_customer_id)\n",
    "for lookalike in lookalikes:\n",
    "    print(f\"{i}. lookalike : {lookalike}\")\n",
    "    i += 1\n",
    "    print()"
   ]
  }
 ],
 "metadata": {
  "kernelspec": {
   "display_name": "Python 3 (ipykernel)",
   "language": "python",
   "name": "python3"
  },
  "language_info": {
   "codemirror_mode": {
    "name": "ipython",
    "version": 3
   },
   "file_extension": ".py",
   "mimetype": "text/x-python",
   "name": "python",
   "nbconvert_exporter": "python",
   "pygments_lexer": "ipython3",
   "version": "3.11.5"
  }
 },
 "nbformat": 4,
 "nbformat_minor": 5
}
